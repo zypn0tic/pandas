{
 "cells": [
  {
   "cell_type": "code",
   "execution_count": 1,
   "metadata": {},
   "outputs": [],
   "source": [
    "import numpy as np\n",
    "import pandas as pd"
   ]
  },
  {
   "cell_type": "code",
   "execution_count": 9,
   "metadata": {},
   "outputs": [
    {
     "data": {
      "text/plain": [
       "Everest          8848.0\n",
       "K2               8611.0\n",
       "Kangchenjunga    8586.0\n",
       "Lhotse           8516.0\n",
       "Makalu           8485.0\n",
       "Nuptse           8382.0\n",
       "Pumori           8365.0\n",
       "Tawachengmaa     8363.0\n",
       "Name: Mountains, dtype: float64"
      ]
     },
     "execution_count": 9,
     "metadata": {},
     "output_type": "execute_result"
    }
   ],
   "source": [
    "Mountains = ['Everest', 'K2', 'Kangchenjunga', 'Lhotse', 'Makalu', 'Nuptse', 'Pumori', 'Tawachengmaa']\n",
    "Heights = [8848, 8611, 8586, 8516, 8485, 8382, 8365, 8363]\n",
    "\n",
    "pd.Series(Heights, index=Mountains, name='Mountains', dtype=float)"
   ]
  }
 ],
 "metadata": {
  "kernelspec": {
   "display_name": ".venv",
   "language": "python",
   "name": "python3"
  },
  "language_info": {
   "codemirror_mode": {
    "name": "ipython",
    "version": 3
   },
   "file_extension": ".py",
   "mimetype": "text/x-python",
   "name": "python",
   "nbconvert_exporter": "python",
   "pygments_lexer": "ipython3",
   "version": "3.13.3"
  }
 },
 "nbformat": 4,
 "nbformat_minor": 2
}
